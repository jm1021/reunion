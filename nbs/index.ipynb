{
 "cells": [
  {
   "cell_type": "code",
   "execution_count": null,
   "metadata": {},
   "outputs": [],
   "source": [
    "#| hide\n",
    "from reunion.core import *"
   ]
  },
  {
   "cell_type": "markdown",
   "metadata": {},
   "source": [
    "# Leuck Family Reunion"
   ]
  },
  {
   "cell_type": "markdown",
   "metadata": {},
   "source": [
    "## Schedule\n",
    "\n",
    "| Date | Day | Time | Event | Location |\n",
    "| --- | --- | --- | --- | --- | \n",
    "| 6/26 | Monday | 3pm | Check in | Redding |\n",
    "| --- | --- | 6pm | Dinner | Slop House |\n",
    "| --- | --- | 7pm | Leuck Greet | Slop House |\n",
    "| 6/27 | Tuesday | 8am | Breakfast | Slop House |\n",
    "| --- | --- | 10am | Sport 1 | Field or Court |"
   ]
  }
 ],
 "metadata": {
  "kernelspec": {
   "display_name": "Python 3.9.15 64-bit",
   "language": "python",
   "name": "python3"
  }
 },
 "nbformat": 4,
 "nbformat_minor": 4
}
